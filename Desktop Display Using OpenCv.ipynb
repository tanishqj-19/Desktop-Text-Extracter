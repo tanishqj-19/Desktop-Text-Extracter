{
 "cells": [
  {
   "cell_type": "code",
   "execution_count": 26,
   "id": "0dafd6ca",
   "metadata": {},
   "outputs": [],
   "source": [
    "import os \n",
    "import numpy as np\n",
    "from PIL import ImageGrab\n",
    "import cv2\n",
    "import time\n",
    "\n",
    "\n",
    "try:\n",
    "    if not os.path.exists('desktop'):\n",
    "        os.makedirs('desktop')\n",
    "except OsError:\n",
    "    print('Dir not created\\n')\n",
    "\n",
    "curr = 0\n",
    "\n",
    "\n",
    "\n",
    "while curr < 30:\n",
    "    screen = ImageGrab.grab(bbox=None)\n",
    "    \n",
    "\n",
    "    name = './desktop/frame' + str(curr) + '.jpg'\n",
    "    screen.save(name)\n",
    "    time.sleep(1)\n",
    "    curr+=1\n",
    "    "
   ]
  },
  {
   "cell_type": "code",
   "execution_count": 37,
   "id": "2f2e53bd",
   "metadata": {},
   "outputs": [],
   "source": [
    "#reading text\n",
    "\n",
    "import pytesseract\n",
    "pytesseract.tesseract_cmd = \"C:\\Program Files\\Tesseract-OCR\\tesseract.exe\"\n",
    "\n",
    "it = 0\n",
    "\n",
    "while(it < 30):\n",
    "    img = cv2.imread(\"./desktop/frame\" + str(it) + '.jpg')\n",
    "    text = pytesseract.image_to_string(img,)\n",
    "#     with open('extractedText.txt' , 'a',encoding='utf-8') as f:\n",
    "#         f.write(text)\n",
    "#         f.write(\"\\n\") \n",
    "    file = open('./test2.txt', 'a', encoding='UTF-8')\n",
    "    file.write(text)\n",
    "    it += 1\n",
    "    \n",
    "    \n",
    "f.close()\n"
   ]
  },
  {
   "cell_type": "code",
   "execution_count": null,
   "id": "51c785bf",
   "metadata": {},
   "outputs": [],
   "source": []
  }
 ],
 "metadata": {
  "kernelspec": {
   "display_name": "Python 3 (ipykernel)",
   "language": "python",
   "name": "python3"
  },
  "language_info": {
   "codemirror_mode": {
    "name": "ipython",
    "version": 3
   },
   "file_extension": ".py",
   "mimetype": "text/x-python",
   "name": "python",
   "nbconvert_exporter": "python",
   "pygments_lexer": "ipython3",
   "version": "3.9.12"
  }
 },
 "nbformat": 4,
 "nbformat_minor": 5
}
